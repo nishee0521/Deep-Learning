{
  "nbformat": 4,
  "nbformat_minor": 0,
  "metadata": {
    "colab": {
      "name": "BankPrediction.ipynb",
      "provenance": [],
      "toc_visible": true,
      "authorship_tag": "ABX9TyMwBFDECW3uY5340l8To2aJ",
      "include_colab_link": true
    },
    "kernelspec": {
      "name": "python3",
      "display_name": "Python 3"
    }
  },
  "cells": [
    {
      "cell_type": "markdown",
      "metadata": {
        "id": "view-in-github",
        "colab_type": "text"
      },
      "source": [
        "<a href=\"https://colab.research.google.com/github/nishee0521/Deep-Learning/blob/master/BankPrediction.ipynb\" target=\"_parent\"><img src=\"https://colab.research.google.com/assets/colab-badge.svg\" alt=\"Open In Colab\"/></a>"
      ]
    },
    {
      "cell_type": "code",
      "metadata": {
        "id": "e_H1rFyrvUFW",
        "colab_type": "code",
        "outputId": "23f682b8-1087-4332-fb79-b8ee63cc39f8",
        "colab": {
          "base_uri": "https://localhost:8080/",
          "height": 124
        }
      },
      "source": [
        "from google.colab import drive\n",
        "drive.mount('/content/gdrive')"
      ],
      "execution_count": 0,
      "outputs": [
        {
          "output_type": "stream",
          "text": [
            "Go to this URL in a browser: https://accounts.google.com/o/oauth2/auth?client_id=947318989803-6bn6qk8qdgf4n4g3pfee6491hc0brc4i.apps.googleusercontent.com&redirect_uri=urn%3aietf%3awg%3aoauth%3a2.0%3aoob&response_type=code&scope=email%20https%3a%2f%2fwww.googleapis.com%2fauth%2fdocs.test%20https%3a%2f%2fwww.googleapis.com%2fauth%2fdrive%20https%3a%2f%2fwww.googleapis.com%2fauth%2fdrive.photos.readonly%20https%3a%2f%2fwww.googleapis.com%2fauth%2fpeopleapi.readonly\n",
            "\n",
            "Enter your authorization code:\n",
            "··········\n",
            "Mounted at /content/gdrive\n"
          ],
          "name": "stdout"
        }
      ]
    },
    {
      "cell_type": "code",
      "metadata": {
        "id": "vRhkDWv9viSP",
        "colab_type": "code",
        "outputId": "fb22b362-b6a0-4a08-e4fc-fd8e839784f1",
        "colab": {
          "base_uri": "https://localhost:8080/",
          "height": 34
        }
      },
      "source": [
        "cd gdrive/My\\ Drive/DeepLearning/Deep_Learning_A_Z/"
      ],
      "execution_count": 0,
      "outputs": [
        {
          "output_type": "stream",
          "text": [
            "/content/gdrive/My Drive/DeepLearning/Deep_Learning_A_Z\n"
          ],
          "name": "stdout"
        }
      ]
    },
    {
      "cell_type": "code",
      "metadata": {
        "id": "XOSCNuYUv9Tu",
        "colab_type": "code",
        "outputId": "6c56fa1d-2968-425c-a3ff-845807aa26f7",
        "colab": {
          "base_uri": "https://localhost:8080/",
          "height": 156
        }
      },
      "source": [
        "!pip3 install keras"
      ],
      "execution_count": 0,
      "outputs": [
        {
          "output_type": "stream",
          "text": [
            "Requirement already satisfied: keras in /usr/local/lib/python3.6/dist-packages (2.3.1)\n",
            "Requirement already satisfied: keras-preprocessing>=1.0.5 in /usr/local/lib/python3.6/dist-packages (from keras) (1.1.0)\n",
            "Requirement already satisfied: h5py in /usr/local/lib/python3.6/dist-packages (from keras) (2.10.0)\n",
            "Requirement already satisfied: pyyaml in /usr/local/lib/python3.6/dist-packages (from keras) (3.13)\n",
            "Requirement already satisfied: six>=1.9.0 in /usr/local/lib/python3.6/dist-packages (from keras) (1.12.0)\n",
            "Requirement already satisfied: numpy>=1.9.1 in /usr/local/lib/python3.6/dist-packages (from keras) (1.18.2)\n",
            "Requirement already satisfied: keras-applications>=1.0.6 in /usr/local/lib/python3.6/dist-packages (from keras) (1.0.8)\n",
            "Requirement already satisfied: scipy>=0.14 in /usr/local/lib/python3.6/dist-packages (from keras) (1.4.1)\n"
          ],
          "name": "stdout"
        }
      ]
    },
    {
      "cell_type": "code",
      "metadata": {
        "id": "_iFq-lA2B8km",
        "colab_type": "code",
        "outputId": "3c06c8ad-c1cb-4e9d-c83c-682cd03fbbed",
        "colab": {
          "base_uri": "https://localhost:8080/",
          "height": 104
        }
      },
      "source": [
        "!ls"
      ],
      "execution_count": 0,
      "outputs": [
        {
          "output_type": "stream",
          "text": [
            "ann_homework_solution.py     classification_template.py\n",
            "ann.py\t\t\t     evaluating_improving_tuning.py\n",
            "categorical_data.py\t     evaluating_improving_tuning_updated.py\n",
            "categorical_data_updated.py  Installations_Instructions.pdf\n",
            "Churn_Modelling.csv\n"
          ],
          "name": "stdout"
        }
      ]
    },
    {
      "cell_type": "code",
      "metadata": {
        "id": "qJg2Y_raCHBO",
        "colab_type": "code",
        "outputId": "a1e41535-cebf-42fc-d197-3e30e06c847c",
        "colab": {
          "base_uri": "https://localhost:8080/",
          "height": 54
        }
      },
      "source": [
        "%cd P16-Artificial-Neural-Networks.zip (Unzipped Files)/Artificial_Neural_Networks"
      ],
      "execution_count": 0,
      "outputs": [
        {
          "output_type": "stream",
          "text": [
            "/content/gdrive/My Drive/DeepLearning/Deep_Learning_A_Z/Volume 1 - Supervised Deep Learning/Part 1 - Artificial Neural Networks (ANN)/Section 4 - Building an ANN/P16-Artificial-Neural-Networks.zip (Unzipped Files)/Artificial_Neural_Networks\n"
          ],
          "name": "stdout"
        }
      ]
    },
    {
      "cell_type": "code",
      "metadata": {
        "id": "K2lsHdxVCQ9N",
        "colab_type": "code",
        "outputId": "c31d9f6e-dd86-4431-a7e7-1f640c720749",
        "colab": {
          "base_uri": "https://localhost:8080/",
          "height": 34
        }
      },
      "source": [
        "#importing relavent packages\n",
        "import pandas as pd\n",
        "import numpy as np\n",
        "import matplotlib.pyplot as plt\n",
        "import keras"
      ],
      "execution_count": 0,
      "outputs": [
        {
          "output_type": "stream",
          "text": [
            "Using TensorFlow backend.\n"
          ],
          "name": "stderr"
        }
      ]
    },
    {
      "cell_type": "code",
      "metadata": {
        "id": "qZj1XoEJCtnJ",
        "colab_type": "code",
        "colab": {}
      },
      "source": [
        "df = pd.read_csv('Churn_Modelling.csv')"
      ],
      "execution_count": 0,
      "outputs": []
    },
    {
      "cell_type": "code",
      "metadata": {
        "id": "nHhECjp-DD1i",
        "colab_type": "code",
        "outputId": "2a395b51-f199-49fb-bc9a-1da6791afad4",
        "colab": {
          "base_uri": "https://localhost:8080/",
          "height": 382
        }
      },
      "source": [
        "df.info()"
      ],
      "execution_count": 0,
      "outputs": [
        {
          "output_type": "stream",
          "text": [
            "<class 'pandas.core.frame.DataFrame'>\n",
            "RangeIndex: 10000 entries, 0 to 9999\n",
            "Data columns (total 14 columns):\n",
            " #   Column           Non-Null Count  Dtype  \n",
            "---  ------           --------------  -----  \n",
            " 0   RowNumber        10000 non-null  int64  \n",
            " 1   CustomerId       10000 non-null  int64  \n",
            " 2   Surname          10000 non-null  object \n",
            " 3   CreditScore      10000 non-null  int64  \n",
            " 4   Geography        10000 non-null  object \n",
            " 5   Gender           10000 non-null  object \n",
            " 6   Age              10000 non-null  int64  \n",
            " 7   Tenure           10000 non-null  int64  \n",
            " 8   Balance          10000 non-null  float64\n",
            " 9   NumOfProducts    10000 non-null  int64  \n",
            " 10  HasCrCard        10000 non-null  int64  \n",
            " 11  IsActiveMember   10000 non-null  int64  \n",
            " 12  EstimatedSalary  10000 non-null  float64\n",
            " 13  Exited           10000 non-null  int64  \n",
            "dtypes: float64(2), int64(9), object(3)\n",
            "memory usage: 1.1+ MB\n"
          ],
          "name": "stdout"
        }
      ]
    },
    {
      "cell_type": "code",
      "metadata": {
        "id": "pwxuUv-tR_mv",
        "colab_type": "code",
        "colab": {}
      },
      "source": [
        "X = df.iloc[:, 3:13]\n",
        "y = df.iloc[:, 13]"
      ],
      "execution_count": 0,
      "outputs": []
    },
    {
      "cell_type": "code",
      "metadata": {
        "id": "0jlSO2OaSP9U",
        "colab_type": "code",
        "outputId": "7dfe627c-70cd-4b9b-ab5b-7922f68f545e",
        "colab": {
          "base_uri": "https://localhost:8080/",
          "height": 312
        }
      },
      "source": [
        "X.info()"
      ],
      "execution_count": 0,
      "outputs": [
        {
          "output_type": "stream",
          "text": [
            "<class 'pandas.core.frame.DataFrame'>\n",
            "RangeIndex: 10000 entries, 0 to 9999\n",
            "Data columns (total 10 columns):\n",
            " #   Column           Non-Null Count  Dtype  \n",
            "---  ------           --------------  -----  \n",
            " 0   CreditScore      10000 non-null  int64  \n",
            " 1   Geography        10000 non-null  object \n",
            " 2   Gender           10000 non-null  object \n",
            " 3   Age              10000 non-null  int64  \n",
            " 4   Tenure           10000 non-null  int64  \n",
            " 5   Balance          10000 non-null  float64\n",
            " 6   NumOfProducts    10000 non-null  int64  \n",
            " 7   HasCrCard        10000 non-null  int64  \n",
            " 8   IsActiveMember   10000 non-null  int64  \n",
            " 9   EstimatedSalary  10000 non-null  float64\n",
            "dtypes: float64(2), int64(6), object(2)\n",
            "memory usage: 781.4+ KB\n"
          ],
          "name": "stdout"
        }
      ]
    },
    {
      "cell_type": "code",
      "metadata": {
        "id": "JsNqC0C_Sr-s",
        "colab_type": "code",
        "outputId": "b0af14ce-2074-4019-9871-82073dcc56cc",
        "colab": {
          "base_uri": "https://localhost:8080/",
          "height": 330
        }
      },
      "source": [
        "X = pd.get_dummies(X, columns=['Geography'], drop_first=True)\n",
        "X['Gender_'] = np.where(X.Gender == 'Female',1,0)\n",
        "X.drop(columns=['Gender'],axis=0, inplace=True)\n",
        "X.info()"
      ],
      "execution_count": 0,
      "outputs": [
        {
          "output_type": "stream",
          "text": [
            "<class 'pandas.core.frame.DataFrame'>\n",
            "RangeIndex: 10000 entries, 0 to 9999\n",
            "Data columns (total 11 columns):\n",
            " #   Column             Non-Null Count  Dtype  \n",
            "---  ------             --------------  -----  \n",
            " 0   CreditScore        10000 non-null  int64  \n",
            " 1   Age                10000 non-null  int64  \n",
            " 2   Tenure             10000 non-null  int64  \n",
            " 3   Balance            10000 non-null  float64\n",
            " 4   NumOfProducts      10000 non-null  int64  \n",
            " 5   HasCrCard          10000 non-null  int64  \n",
            " 6   IsActiveMember     10000 non-null  int64  \n",
            " 7   EstimatedSalary    10000 non-null  float64\n",
            " 8   Geography_Germany  10000 non-null  uint8  \n",
            " 9   Geography_Spain    10000 non-null  uint8  \n",
            " 10  Gender_            10000 non-null  int64  \n",
            "dtypes: float64(2), int64(7), uint8(2)\n",
            "memory usage: 722.8 KB\n"
          ],
          "name": "stdout"
        }
      ]
    },
    {
      "cell_type": "code",
      "metadata": {
        "id": "I3exCxaCTwM3",
        "colab_type": "code",
        "colab": {}
      },
      "source": [
        "X = X.values\n",
        "y = y.values\n",
        "#splitting data into train and test parts\n",
        "from sklearn.model_selection import train_test_split\n",
        "x_train, x_test, y_train, y_test = train_test_split(X, y, test_size=0.2, random_state=0)\n",
        "#scaling features\n",
        "from sklearn.preprocessing import StandardScaler\n",
        "sc = StandardScaler()\n",
        "x_train = sc.fit_transform(x_train)\n",
        "x_test = sc.transform(x_test)"
      ],
      "execution_count": 0,
      "outputs": []
    },
    {
      "cell_type": "code",
      "metadata": {
        "id": "baj0iOmZUjFc",
        "colab_type": "code",
        "colab": {}
      },
      "source": [
        "#importing the necessary libraries\n",
        "from keras.models import Sequential\n",
        "from keras.layers import Dense\n"
      ],
      "execution_count": 0,
      "outputs": []
    },
    {
      "cell_type": "code",
      "metadata": {
        "id": "ZgSkr-jsU-Eq",
        "colab_type": "code",
        "colab": {}
      },
      "source": [
        "classifier = Sequential()\n",
        "#adding the first hidden and the input layer\n",
        "classifier.add(Dense(units = 6, activation='relu', kernel_initializer='uniform', input_dim=11))"
      ],
      "execution_count": 0,
      "outputs": []
    },
    {
      "cell_type": "code",
      "metadata": {
        "id": "YATAaPSuVd6G",
        "colab_type": "code",
        "colab": {}
      },
      "source": [
        "#adding the second hidden layer\n",
        "classifier.add(Dense(units=6, activation='relu',kernel_initializer='uniform'))"
      ],
      "execution_count": 0,
      "outputs": []
    },
    {
      "cell_type": "code",
      "metadata": {
        "id": "hqJM5uENVyV3",
        "colab_type": "code",
        "colab": {}
      },
      "source": [
        "#adding output layer\n",
        "classifier.add(Dense(units=1, activation='sigmoid', kernel_initializer='uniform'))"
      ],
      "execution_count": 0,
      "outputs": []
    },
    {
      "cell_type": "code",
      "metadata": {
        "id": "Zg-gkTAtV_pE",
        "colab_type": "code",
        "colab": {}
      },
      "source": [
        "#compiling the classifier\n",
        "\n",
        "classifier.compile(optimizer = 'adam', loss = 'binary_crossentropy', metrics = ['accuracy'])"
      ],
      "execution_count": 0,
      "outputs": []
    },
    {
      "cell_type": "code",
      "metadata": {
        "id": "atK5P3s4Wd4_",
        "colab_type": "code",
        "outputId": "dcac6284-d129-45c0-99e6-82a1602a492b",
        "colab": {
          "base_uri": "https://localhost:8080/",
          "height": 1000
        }
      },
      "source": [
        "#training our ANN\n",
        "classifier.fit(x_train, y_train, batch_size = 16, epochs = 100)"
      ],
      "execution_count": 0,
      "outputs": [
        {
          "output_type": "stream",
          "text": [
            "Epoch 1/100\n",
            "8000/8000 [==============================] - 1s 84us/step - loss: 0.5066 - accuracy: 0.7960\n",
            "Epoch 2/100\n",
            "8000/8000 [==============================] - 1s 75us/step - loss: 0.4315 - accuracy: 0.7960\n",
            "Epoch 3/100\n",
            "8000/8000 [==============================] - 1s 71us/step - loss: 0.4258 - accuracy: 0.7960\n",
            "Epoch 4/100\n",
            "8000/8000 [==============================] - 1s 68us/step - loss: 0.4215 - accuracy: 0.8018\n",
            "Epoch 5/100\n",
            "8000/8000 [==============================] - 1s 67us/step - loss: 0.4182 - accuracy: 0.8211\n",
            "Epoch 6/100\n",
            "8000/8000 [==============================] - 1s 71us/step - loss: 0.4163 - accuracy: 0.8266\n",
            "Epoch 7/100\n",
            "8000/8000 [==============================] - 1s 67us/step - loss: 0.4147 - accuracy: 0.8289\n",
            "Epoch 8/100\n",
            "8000/8000 [==============================] - 1s 72us/step - loss: 0.4136 - accuracy: 0.8317\n",
            "Epoch 9/100\n",
            "8000/8000 [==============================] - 1s 66us/step - loss: 0.4127 - accuracy: 0.8309\n",
            "Epoch 10/100\n",
            "8000/8000 [==============================] - 1s 72us/step - loss: 0.4117 - accuracy: 0.8338\n",
            "Epoch 11/100\n",
            "8000/8000 [==============================] - 1s 70us/step - loss: 0.4105 - accuracy: 0.8329\n",
            "Epoch 12/100\n",
            "8000/8000 [==============================] - 1s 72us/step - loss: 0.4094 - accuracy: 0.8347\n",
            "Epoch 13/100\n",
            "8000/8000 [==============================] - 1s 69us/step - loss: 0.4085 - accuracy: 0.8339\n",
            "Epoch 14/100\n",
            "8000/8000 [==============================] - 1s 69us/step - loss: 0.4081 - accuracy: 0.8334\n",
            "Epoch 15/100\n",
            "8000/8000 [==============================] - 1s 72us/step - loss: 0.4074 - accuracy: 0.8339\n",
            "Epoch 16/100\n",
            "8000/8000 [==============================] - 1s 69us/step - loss: 0.4067 - accuracy: 0.8346\n",
            "Epoch 17/100\n",
            "8000/8000 [==============================] - 1s 71us/step - loss: 0.4063 - accuracy: 0.8344\n",
            "Epoch 18/100\n",
            "8000/8000 [==============================] - 1s 70us/step - loss: 0.4058 - accuracy: 0.8350\n",
            "Epoch 19/100\n",
            "8000/8000 [==============================] - 1s 73us/step - loss: 0.4054 - accuracy: 0.8339\n",
            "Epoch 20/100\n",
            "8000/8000 [==============================] - 1s 72us/step - loss: 0.4051 - accuracy: 0.8351\n",
            "Epoch 21/100\n",
            "8000/8000 [==============================] - 1s 69us/step - loss: 0.4048 - accuracy: 0.8350\n",
            "Epoch 22/100\n",
            "8000/8000 [==============================] - 1s 69us/step - loss: 0.4045 - accuracy: 0.8335\n",
            "Epoch 23/100\n",
            "8000/8000 [==============================] - 1s 70us/step - loss: 0.4044 - accuracy: 0.8349\n",
            "Epoch 24/100\n",
            "8000/8000 [==============================] - 1s 70us/step - loss: 0.4042 - accuracy: 0.8351\n",
            "Epoch 25/100\n",
            "8000/8000 [==============================] - 1s 68us/step - loss: 0.4039 - accuracy: 0.8350\n",
            "Epoch 26/100\n",
            "8000/8000 [==============================] - 1s 71us/step - loss: 0.4037 - accuracy: 0.8350\n",
            "Epoch 27/100\n",
            "8000/8000 [==============================] - 1s 73us/step - loss: 0.4033 - accuracy: 0.8341\n",
            "Epoch 28/100\n",
            "8000/8000 [==============================] - 1s 68us/step - loss: 0.4032 - accuracy: 0.8345\n",
            "Epoch 29/100\n",
            "8000/8000 [==============================] - 1s 72us/step - loss: 0.4031 - accuracy: 0.8349\n",
            "Epoch 30/100\n",
            "8000/8000 [==============================] - 1s 69us/step - loss: 0.4027 - accuracy: 0.8345\n",
            "Epoch 31/100\n",
            "8000/8000 [==============================] - 1s 70us/step - loss: 0.4029 - accuracy: 0.8351\n",
            "Epoch 32/100\n",
            "8000/8000 [==============================] - 1s 68us/step - loss: 0.4027 - accuracy: 0.8355\n",
            "Epoch 33/100\n",
            "8000/8000 [==============================] - 1s 70us/step - loss: 0.4028 - accuracy: 0.8355\n",
            "Epoch 34/100\n",
            "8000/8000 [==============================] - 1s 67us/step - loss: 0.4023 - accuracy: 0.8342\n",
            "Epoch 35/100\n",
            "8000/8000 [==============================] - 1s 70us/step - loss: 0.4020 - accuracy: 0.8353\n",
            "Epoch 36/100\n",
            "8000/8000 [==============================] - 1s 68us/step - loss: 0.4025 - accuracy: 0.8361\n",
            "Epoch 37/100\n",
            "8000/8000 [==============================] - 1s 71us/step - loss: 0.4020 - accuracy: 0.8354\n",
            "Epoch 38/100\n",
            "8000/8000 [==============================] - 1s 67us/step - loss: 0.4019 - accuracy: 0.8363\n",
            "Epoch 39/100\n",
            "8000/8000 [==============================] - 1s 72us/step - loss: 0.4016 - accuracy: 0.8375\n",
            "Epoch 40/100\n",
            "8000/8000 [==============================] - 1s 78us/step - loss: 0.4016 - accuracy: 0.8351\n",
            "Epoch 41/100\n",
            "8000/8000 [==============================] - 1s 68us/step - loss: 0.4017 - accuracy: 0.8365\n",
            "Epoch 42/100\n",
            "8000/8000 [==============================] - 1s 68us/step - loss: 0.4014 - accuracy: 0.8364\n",
            "Epoch 43/100\n",
            "8000/8000 [==============================] - 1s 69us/step - loss: 0.4014 - accuracy: 0.8350\n",
            "Epoch 44/100\n",
            "8000/8000 [==============================] - 1s 69us/step - loss: 0.4011 - accuracy: 0.8355\n",
            "Epoch 45/100\n",
            "8000/8000 [==============================] - 1s 71us/step - loss: 0.4012 - accuracy: 0.8364\n",
            "Epoch 46/100\n",
            "8000/8000 [==============================] - 1s 69us/step - loss: 0.4011 - accuracy: 0.8345\n",
            "Epoch 47/100\n",
            "8000/8000 [==============================] - 1s 69us/step - loss: 0.4012 - accuracy: 0.8360\n",
            "Epoch 48/100\n",
            "8000/8000 [==============================] - 1s 74us/step - loss: 0.4011 - accuracy: 0.8359\n",
            "Epoch 49/100\n",
            "8000/8000 [==============================] - 1s 71us/step - loss: 0.4006 - accuracy: 0.8351\n",
            "Epoch 50/100\n",
            "8000/8000 [==============================] - 1s 68us/step - loss: 0.4009 - accuracy: 0.8361\n",
            "Epoch 51/100\n",
            "8000/8000 [==============================] - 1s 75us/step - loss: 0.4006 - accuracy: 0.8374\n",
            "Epoch 52/100\n",
            "8000/8000 [==============================] - 1s 68us/step - loss: 0.4007 - accuracy: 0.8356\n",
            "Epoch 53/100\n",
            "8000/8000 [==============================] - 1s 71us/step - loss: 0.4007 - accuracy: 0.8366\n",
            "Epoch 54/100\n",
            "8000/8000 [==============================] - 1s 74us/step - loss: 0.4002 - accuracy: 0.8355\n",
            "Epoch 55/100\n",
            "8000/8000 [==============================] - 1s 73us/step - loss: 0.4006 - accuracy: 0.8374\n",
            "Epoch 56/100\n",
            "8000/8000 [==============================] - 1s 72us/step - loss: 0.4008 - accuracy: 0.8361\n",
            "Epoch 57/100\n",
            "8000/8000 [==============================] - 1s 69us/step - loss: 0.4009 - accuracy: 0.8357\n",
            "Epoch 58/100\n",
            "8000/8000 [==============================] - 1s 69us/step - loss: 0.4003 - accuracy: 0.8367\n",
            "Epoch 59/100\n",
            "8000/8000 [==============================] - 1s 71us/step - loss: 0.4007 - accuracy: 0.8360\n",
            "Epoch 60/100\n",
            "8000/8000 [==============================] - 1s 68us/step - loss: 0.4004 - accuracy: 0.8345\n",
            "Epoch 61/100\n",
            "8000/8000 [==============================] - 1s 71us/step - loss: 0.4002 - accuracy: 0.8359\n",
            "Epoch 62/100\n",
            "8000/8000 [==============================] - 1s 69us/step - loss: 0.4004 - accuracy: 0.8356\n",
            "Epoch 63/100\n",
            "8000/8000 [==============================] - 1s 69us/step - loss: 0.4005 - accuracy: 0.8378\n",
            "Epoch 64/100\n",
            "8000/8000 [==============================] - 1s 79us/step - loss: 0.4001 - accuracy: 0.8361\n",
            "Epoch 65/100\n",
            "8000/8000 [==============================] - 1s 72us/step - loss: 0.4001 - accuracy: 0.8349\n",
            "Epoch 66/100\n",
            "8000/8000 [==============================] - 1s 69us/step - loss: 0.4002 - accuracy: 0.8366\n",
            "Epoch 67/100\n",
            "8000/8000 [==============================] - 1s 69us/step - loss: 0.3997 - accuracy: 0.8366\n",
            "Epoch 68/100\n",
            "8000/8000 [==============================] - 1s 72us/step - loss: 0.4001 - accuracy: 0.8354\n",
            "Epoch 69/100\n",
            "8000/8000 [==============================] - 1s 69us/step - loss: 0.4003 - accuracy: 0.8360\n",
            "Epoch 70/100\n",
            "8000/8000 [==============================] - 1s 69us/step - loss: 0.4003 - accuracy: 0.8357\n",
            "Epoch 71/100\n",
            "8000/8000 [==============================] - 1s 70us/step - loss: 0.3998 - accuracy: 0.8366\n",
            "Epoch 72/100\n",
            "8000/8000 [==============================] - 1s 76us/step - loss: 0.3998 - accuracy: 0.8366\n",
            "Epoch 73/100\n",
            "8000/8000 [==============================] - 1s 74us/step - loss: 0.4002 - accuracy: 0.8360\n",
            "Epoch 74/100\n",
            "8000/8000 [==============================] - 1s 69us/step - loss: 0.3998 - accuracy: 0.8366\n",
            "Epoch 75/100\n",
            "8000/8000 [==============================] - 1s 70us/step - loss: 0.4001 - accuracy: 0.8351\n",
            "Epoch 76/100\n",
            "8000/8000 [==============================] - 1s 67us/step - loss: 0.3999 - accuracy: 0.8366\n",
            "Epoch 77/100\n",
            "8000/8000 [==============================] - 1s 67us/step - loss: 0.3997 - accuracy: 0.8347\n",
            "Epoch 78/100\n",
            "8000/8000 [==============================] - 1s 69us/step - loss: 0.3999 - accuracy: 0.8351\n",
            "Epoch 79/100\n",
            "8000/8000 [==============================] - 1s 70us/step - loss: 0.3994 - accuracy: 0.8361\n",
            "Epoch 80/100\n",
            "8000/8000 [==============================] - 1s 71us/step - loss: 0.4002 - accuracy: 0.8359\n",
            "Epoch 81/100\n",
            "8000/8000 [==============================] - 1s 69us/step - loss: 0.4000 - accuracy: 0.8369\n",
            "Epoch 82/100\n",
            "8000/8000 [==============================] - 1s 69us/step - loss: 0.3995 - accuracy: 0.8370\n",
            "Epoch 83/100\n",
            "8000/8000 [==============================] - 1s 68us/step - loss: 0.3994 - accuracy: 0.8365\n",
            "Epoch 84/100\n",
            "8000/8000 [==============================] - 1s 70us/step - loss: 0.4000 - accuracy: 0.8349\n",
            "Epoch 85/100\n",
            "8000/8000 [==============================] - 1s 72us/step - loss: 0.3999 - accuracy: 0.8367\n",
            "Epoch 86/100\n",
            "8000/8000 [==============================] - 1s 68us/step - loss: 0.3999 - accuracy: 0.8345\n",
            "Epoch 87/100\n",
            "8000/8000 [==============================] - 1s 76us/step - loss: 0.3997 - accuracy: 0.8350\n",
            "Epoch 88/100\n",
            "8000/8000 [==============================] - 1s 67us/step - loss: 0.3998 - accuracy: 0.8360\n",
            "Epoch 89/100\n",
            "8000/8000 [==============================] - 1s 74us/step - loss: 0.3997 - accuracy: 0.8361\n",
            "Epoch 90/100\n",
            "8000/8000 [==============================] - 1s 68us/step - loss: 0.3996 - accuracy: 0.8375\n",
            "Epoch 91/100\n",
            "8000/8000 [==============================] - 1s 68us/step - loss: 0.3998 - accuracy: 0.8369\n",
            "Epoch 92/100\n",
            "8000/8000 [==============================] - 1s 69us/step - loss: 0.3997 - accuracy: 0.8365\n",
            "Epoch 93/100\n",
            "8000/8000 [==============================] - 1s 68us/step - loss: 0.3992 - accuracy: 0.8360\n",
            "Epoch 94/100\n",
            "8000/8000 [==============================] - 1s 71us/step - loss: 0.3992 - accuracy: 0.8355\n",
            "Epoch 95/100\n",
            "8000/8000 [==============================] - 1s 71us/step - loss: 0.4000 - accuracy: 0.8363\n",
            "Epoch 96/100\n",
            "8000/8000 [==============================] - 1s 69us/step - loss: 0.3995 - accuracy: 0.8351\n",
            "Epoch 97/100\n",
            "8000/8000 [==============================] - 1s 71us/step - loss: 0.3994 - accuracy: 0.8370\n",
            "Epoch 98/100\n",
            "8000/8000 [==============================] - 1s 72us/step - loss: 0.3995 - accuracy: 0.8364\n",
            "Epoch 99/100\n",
            "8000/8000 [==============================] - 1s 67us/step - loss: 0.3994 - accuracy: 0.8355\n",
            "Epoch 100/100\n",
            "8000/8000 [==============================] - 1s 72us/step - loss: 0.3993 - accuracy: 0.8344\n"
          ],
          "name": "stdout"
        },
        {
          "output_type": "execute_result",
          "data": {
            "text/plain": [
              "<keras.callbacks.callbacks.History at 0x7f4ebd65e550>"
            ]
          },
          "metadata": {
            "tags": []
          },
          "execution_count": 75
        }
      ]
    },
    {
      "cell_type": "markdown",
      "metadata": {
        "id": "DK-4Oqd1WlXg",
        "colab_type": "text"
      },
      "source": [
        "#####We have trained our naive neural network. \n",
        "#####We have recieved an accuracy of roughly 83% on the train data"
      ]
    },
    {
      "cell_type": "code",
      "metadata": {
        "id": "0U-pX86uXZhP",
        "colab_type": "code",
        "colab": {}
      },
      "source": [
        "y_pred = classifier.predict(x_test)\n",
        "y_pred = (y_pred>0.5)"
      ],
      "execution_count": 0,
      "outputs": []
    },
    {
      "cell_type": "code",
      "metadata": {
        "id": "lFo2VccuYNDI",
        "colab_type": "code",
        "colab": {}
      },
      "source": [
        "# making the confusion matrix\n",
        "from sklearn.metrics import confusion_matrix\n",
        "cm = confusion_matrix(y_pred, y_test)"
      ],
      "execution_count": 0,
      "outputs": []
    },
    {
      "cell_type": "code",
      "metadata": {
        "id": "WNAd9sSHZtsQ",
        "colab_type": "code",
        "outputId": "d5c111a6-4fc3-481c-e72c-5f491c0fed1a",
        "colab": {
          "base_uri": "https://localhost:8080/",
          "height": 52
        }
      },
      "source": [
        "print(cm)"
      ],
      "execution_count": 0,
      "outputs": [
        {
          "output_type": "stream",
          "text": [
            "[[1551  274]\n",
            " [  44  131]]\n"
          ],
          "name": "stdout"
        }
      ]
    },
    {
      "cell_type": "markdown",
      "metadata": {
        "id": "tn-32wNkZ97Q",
        "colab_type": "text"
      },
      "source": [
        "#Tuning the model "
      ]
    },
    {
      "cell_type": "code",
      "metadata": {
        "id": "xPV-ySxSbJ7A",
        "colab_type": "code",
        "colab": {}
      },
      "source": [
        "from keras.wrappers.scikit_learn import KerasClassifier"
      ],
      "execution_count": 0,
      "outputs": []
    },
    {
      "cell_type": "code",
      "metadata": {
        "id": "NHz-DdFDeJgP",
        "colab_type": "code",
        "colab": {}
      },
      "source": [
        "from sklearn.model_selection import cross_val_score"
      ],
      "execution_count": 0,
      "outputs": []
    },
    {
      "cell_type": "code",
      "metadata": {
        "id": "5PaInKpeeQwi",
        "colab_type": "code",
        "colab": {}
      },
      "source": [
        "def build_classifier():\n",
        "  print(\"Start\")\n",
        "  classifier = Sequential()\n",
        "  classifier.add(Dense(units = 6, activation='relu', kernel_initializer='uniform', input_dim=11))\n",
        "  classifier.add(Dense(units=6, activation='relu',kernel_initializer='uniform'))\n",
        "  classifier.add(Dense(units=1, activation='sigmoid', kernel_initializer='uniform'))\n",
        "  classifier.compile(optimizer = 'adam', loss = 'binary_crossentropy', metrics = ['accuracy'])\n",
        "  print(\"End\")\n",
        "  return classifier"
      ],
      "execution_count": 0,
      "outputs": []
    },
    {
      "cell_type": "code",
      "metadata": {
        "id": "wpkD6Qs0fAHF",
        "colab_type": "code",
        "colab": {}
      },
      "source": [
        "classifier = KerasClassifier(build_fn=build_classifier, batch_size = 16, epochs = 100)\n",
        "accuracies= cross_val_score(estimator = classifier, X=x_train, y=y_train, cv=10,n_jobs=-1)"
      ],
      "execution_count": 0,
      "outputs": []
    },
    {
      "cell_type": "code",
      "metadata": {
        "id": "921xVOb3grMc",
        "colab_type": "code",
        "outputId": "7ea8f58d-bb98-43b9-ecf2-1ebc30604fde",
        "colab": {
          "base_uri": "https://localhost:8080/",
          "height": 52
        }
      },
      "source": [
        "print(accuracies)"
      ],
      "execution_count": 0,
      "outputs": [
        {
          "output_type": "stream",
          "text": [
            "[0.85750002 0.83999997 0.8775     0.84500003 0.85250002 0.82999998\n",
            " 0.83625001 0.82749999 0.80624998 0.86124998]\n"
          ],
          "name": "stdout"
        }
      ]
    },
    {
      "cell_type": "code",
      "metadata": {
        "id": "MNt-zv2EnWAS",
        "colab_type": "code",
        "outputId": "24c37084-43a7-45b3-b9dd-c1ae2a567617",
        "colab": {
          "base_uri": "https://localhost:8080/",
          "height": 34
        }
      },
      "source": [
        "print(accuracies.mean())"
      ],
      "execution_count": 0,
      "outputs": [
        {
          "output_type": "stream",
          "text": [
            "0.8433749973773956\n"
          ],
          "name": "stdout"
        }
      ]
    },
    {
      "cell_type": "markdown",
      "metadata": {
        "id": "IEiVDcb0pmp9",
        "colab_type": "text"
      },
      "source": [
        "###Using Dropout"
      ]
    },
    {
      "cell_type": "code",
      "metadata": {
        "id": "gLwAcknFrP2N",
        "colab_type": "code",
        "colab": {}
      },
      "source": [
        "from keras.layers import Dropout"
      ],
      "execution_count": 0,
      "outputs": []
    },
    {
      "cell_type": "code",
      "metadata": {
        "id": "ROQoxehCrS1R",
        "colab_type": "code",
        "outputId": "fe2db9a6-f090-49fd-e504-79b98ed8bfa5",
        "colab": {
          "base_uri": "https://localhost:8080/",
          "height": 1000
        }
      },
      "source": [
        "classifier = Sequential()\n",
        "classifier.add(Dense(units = 6, activation='relu', kernel_initializer='uniform', input_dim=11))\n",
        "classifier.add(Dropout(p=0.1))\n",
        "classifier.add(Dense(units=6, activation='relu',kernel_initializer='uniform'))\n",
        "classifier.add(Dropout(p=0.1))\n",
        "classifier.add(Dense(units=1, activation='sigmoid', kernel_initializer='uniform'))\n",
        "classifier.add(Dropout(p=0.1))\n",
        "classifier.compile(optimizer = 'adam', loss = 'binary_crossentropy', metrics = ['accuracy'])\n",
        "classifier.fit(x_train,y_train,batch_size=16,epochs=100)\n",
        "\n"
      ],
      "execution_count": 0,
      "outputs": [
        {
          "output_type": "stream",
          "text": [
            "/usr/local/lib/python3.6/dist-packages/ipykernel_launcher.py:3: UserWarning: Update your `Dropout` call to the Keras 2 API: `Dropout(rate=0.1)`\n",
            "  This is separate from the ipykernel package so we can avoid doing imports until\n",
            "/usr/local/lib/python3.6/dist-packages/ipykernel_launcher.py:5: UserWarning: Update your `Dropout` call to the Keras 2 API: `Dropout(rate=0.1)`\n",
            "  \"\"\"\n",
            "/usr/local/lib/python3.6/dist-packages/ipykernel_launcher.py:7: UserWarning: Update your `Dropout` call to the Keras 2 API: `Dropout(rate=0.1)`\n",
            "  import sys\n"
          ],
          "name": "stderr"
        },
        {
          "output_type": "stream",
          "text": [
            "Epoch 1/100\n",
            "8000/8000 [==============================] - 1s 111us/step - loss: 0.8148 - accuracy: 0.6970\n",
            "Epoch 2/100\n",
            "8000/8000 [==============================] - 1s 89us/step - loss: 0.7278 - accuracy: 0.7958\n",
            "Epoch 3/100\n",
            "8000/8000 [==============================] - 1s 86us/step - loss: 0.7232 - accuracy: 0.7958\n",
            "Epoch 4/100\n",
            "8000/8000 [==============================] - 1s 90us/step - loss: 0.6983 - accuracy: 0.7958\n",
            "Epoch 5/100\n",
            "8000/8000 [==============================] - 1s 85us/step - loss: 0.6938 - accuracy: 0.8010\n",
            "Epoch 6/100\n",
            "8000/8000 [==============================] - 1s 88us/step - loss: 0.7091 - accuracy: 0.8199\n",
            "Epoch 7/100\n",
            "8000/8000 [==============================] - 1s 86us/step - loss: 0.6840 - accuracy: 0.8221\n",
            "Epoch 8/100\n",
            "8000/8000 [==============================] - 1s 85us/step - loss: 0.7099 - accuracy: 0.8204\n",
            "Epoch 9/100\n",
            "8000/8000 [==============================] - 1s 92us/step - loss: 0.6944 - accuracy: 0.8239\n",
            "Epoch 10/100\n",
            "8000/8000 [==============================] - 1s 87us/step - loss: 0.6750 - accuracy: 0.8301\n",
            "Epoch 11/100\n",
            "8000/8000 [==============================] - 1s 88us/step - loss: 0.6880 - accuracy: 0.8242\n",
            "Epoch 12/100\n",
            "8000/8000 [==============================] - 1s 87us/step - loss: 0.6626 - accuracy: 0.8260\n",
            "Epoch 13/100\n",
            "8000/8000 [==============================] - 1s 84us/step - loss: 0.6734 - accuracy: 0.8280\n",
            "Epoch 14/100\n",
            "8000/8000 [==============================] - 1s 91us/step - loss: 0.7371 - accuracy: 0.8266\n",
            "Epoch 15/100\n",
            "8000/8000 [==============================] - 1s 89us/step - loss: 0.6675 - accuracy: 0.8299\n",
            "Epoch 16/100\n",
            "8000/8000 [==============================] - 1s 84us/step - loss: 0.7087 - accuracy: 0.8282\n",
            "Epoch 17/100\n",
            "8000/8000 [==============================] - 1s 85us/step - loss: 0.7158 - accuracy: 0.8276\n",
            "Epoch 18/100\n",
            "8000/8000 [==============================] - 1s 86us/step - loss: 0.6775 - accuracy: 0.8270\n",
            "Epoch 19/100\n",
            "8000/8000 [==============================] - 1s 89us/step - loss: 0.6464 - accuracy: 0.8281\n",
            "Epoch 20/100\n",
            "8000/8000 [==============================] - 1s 94us/step - loss: 0.7285 - accuracy: 0.8253\n",
            "Epoch 21/100\n",
            "8000/8000 [==============================] - 1s 91us/step - loss: 0.6836 - accuracy: 0.8294\n",
            "Epoch 22/100\n",
            "8000/8000 [==============================] - 1s 88us/step - loss: 0.6902 - accuracy: 0.8319\n",
            "Epoch 23/100\n",
            "8000/8000 [==============================] - 1s 97us/step - loss: 0.6919 - accuracy: 0.8260\n",
            "Epoch 24/100\n",
            "8000/8000 [==============================] - 1s 88us/step - loss: 0.6737 - accuracy: 0.8267\n",
            "Epoch 25/100\n",
            "8000/8000 [==============================] - 1s 97us/step - loss: 0.6653 - accuracy: 0.8294\n",
            "Epoch 26/100\n",
            "8000/8000 [==============================] - 1s 93us/step - loss: 0.7291 - accuracy: 0.8269\n",
            "Epoch 27/100\n",
            "8000/8000 [==============================] - 1s 91us/step - loss: 0.7011 - accuracy: 0.8291\n",
            "Epoch 28/100\n",
            "8000/8000 [==============================] - 1s 88us/step - loss: 0.6970 - accuracy: 0.8249\n",
            "Epoch 29/100\n",
            "8000/8000 [==============================] - 1s 91us/step - loss: 0.7008 - accuracy: 0.8263\n",
            "Epoch 30/100\n",
            "8000/8000 [==============================] - 1s 89us/step - loss: 0.6791 - accuracy: 0.8289\n",
            "Epoch 31/100\n",
            "8000/8000 [==============================] - 1s 87us/step - loss: 0.7163 - accuracy: 0.8296\n",
            "Epoch 32/100\n",
            "8000/8000 [==============================] - 1s 88us/step - loss: 0.7108 - accuracy: 0.8261\n",
            "Epoch 33/100\n",
            "8000/8000 [==============================] - 1s 91us/step - loss: 0.7031 - accuracy: 0.8267\n",
            "Epoch 34/100\n",
            "8000/8000 [==============================] - 1s 94us/step - loss: 0.6845 - accuracy: 0.8298\n",
            "Epoch 35/100\n",
            "8000/8000 [==============================] - 1s 90us/step - loss: 0.6841 - accuracy: 0.8253\n",
            "Epoch 36/100\n",
            "8000/8000 [==============================] - 1s 87us/step - loss: 0.7178 - accuracy: 0.8291\n",
            "Epoch 37/100\n",
            "8000/8000 [==============================] - 1s 91us/step - loss: 0.6660 - accuracy: 0.8261\n",
            "Epoch 38/100\n",
            "8000/8000 [==============================] - 1s 86us/step - loss: 0.6862 - accuracy: 0.8288\n",
            "Epoch 39/100\n",
            "8000/8000 [==============================] - 1s 88us/step - loss: 0.6764 - accuracy: 0.8298\n",
            "Epoch 40/100\n",
            "8000/8000 [==============================] - 1s 87us/step - loss: 0.6980 - accuracy: 0.8278\n",
            "Epoch 41/100\n",
            "8000/8000 [==============================] - 1s 89us/step - loss: 0.6822 - accuracy: 0.8273\n",
            "Epoch 42/100\n",
            "8000/8000 [==============================] - 1s 88us/step - loss: 0.6951 - accuracy: 0.8288\n",
            "Epoch 43/100\n",
            "8000/8000 [==============================] - 1s 92us/step - loss: 0.7185 - accuracy: 0.8273\n",
            "Epoch 44/100\n",
            "8000/8000 [==============================] - 1s 93us/step - loss: 0.6840 - accuracy: 0.8288\n",
            "Epoch 45/100\n",
            "8000/8000 [==============================] - 1s 92us/step - loss: 0.6823 - accuracy: 0.8274\n",
            "Epoch 46/100\n",
            "8000/8000 [==============================] - 1s 91us/step - loss: 0.7145 - accuracy: 0.8301\n",
            "Epoch 47/100\n",
            "8000/8000 [==============================] - 1s 88us/step - loss: 0.6997 - accuracy: 0.8289\n",
            "Epoch 48/100\n",
            "8000/8000 [==============================] - 1s 93us/step - loss: 0.6710 - accuracy: 0.8264\n",
            "Epoch 49/100\n",
            "8000/8000 [==============================] - 1s 96us/step - loss: 0.6802 - accuracy: 0.8288\n",
            "Epoch 50/100\n",
            "8000/8000 [==============================] - 1s 90us/step - loss: 0.7039 - accuracy: 0.8294\n",
            "Epoch 51/100\n",
            "8000/8000 [==============================] - 1s 95us/step - loss: 0.7181 - accuracy: 0.8280\n",
            "Epoch 52/100\n",
            "8000/8000 [==============================] - 1s 90us/step - loss: 0.6884 - accuracy: 0.8303\n",
            "Epoch 53/100\n",
            "8000/8000 [==============================] - 1s 89us/step - loss: 0.6665 - accuracy: 0.8282\n",
            "Epoch 54/100\n",
            "8000/8000 [==============================] - 1s 83us/step - loss: 0.6833 - accuracy: 0.8292\n",
            "Epoch 55/100\n",
            "8000/8000 [==============================] - 1s 91us/step - loss: 0.6875 - accuracy: 0.8274\n",
            "Epoch 56/100\n",
            "8000/8000 [==============================] - 1s 86us/step - loss: 0.6731 - accuracy: 0.8276\n",
            "Epoch 57/100\n",
            "8000/8000 [==============================] - 1s 87us/step - loss: 0.7268 - accuracy: 0.8279\n",
            "Epoch 58/100\n",
            "8000/8000 [==============================] - 1s 87us/step - loss: 0.7156 - accuracy: 0.8282\n",
            "Epoch 59/100\n",
            "8000/8000 [==============================] - 1s 89us/step - loss: 0.7784 - accuracy: 0.8275\n",
            "Epoch 60/100\n",
            "8000/8000 [==============================] - 1s 91us/step - loss: 0.6844 - accuracy: 0.8273\n",
            "Epoch 61/100\n",
            "8000/8000 [==============================] - 1s 89us/step - loss: 0.6908 - accuracy: 0.8284\n",
            "Epoch 62/100\n",
            "8000/8000 [==============================] - 1s 88us/step - loss: 0.6760 - accuracy: 0.8264\n",
            "Epoch 63/100\n",
            "8000/8000 [==============================] - 1s 86us/step - loss: 0.6864 - accuracy: 0.8310\n",
            "Epoch 64/100\n",
            "8000/8000 [==============================] - 1s 93us/step - loss: 0.6861 - accuracy: 0.8289\n",
            "Epoch 65/100\n",
            "8000/8000 [==============================] - 1s 94us/step - loss: 0.6779 - accuracy: 0.8261\n",
            "Epoch 66/100\n",
            "8000/8000 [==============================] - 1s 91us/step - loss: 0.7001 - accuracy: 0.8304\n",
            "Epoch 67/100\n",
            "8000/8000 [==============================] - 1s 98us/step - loss: 0.7156 - accuracy: 0.8271\n",
            "Epoch 68/100\n",
            "8000/8000 [==============================] - 1s 91us/step - loss: 0.6787 - accuracy: 0.8282\n",
            "Epoch 69/100\n",
            "8000/8000 [==============================] - 1s 87us/step - loss: 0.7121 - accuracy: 0.8270\n",
            "Epoch 70/100\n",
            "8000/8000 [==============================] - 1s 93us/step - loss: 0.6677 - accuracy: 0.8303\n",
            "Epoch 71/100\n",
            "8000/8000 [==============================] - 1s 90us/step - loss: 0.6648 - accuracy: 0.8266\n",
            "Epoch 72/100\n",
            "8000/8000 [==============================] - 1s 90us/step - loss: 0.6799 - accuracy: 0.8261\n",
            "Epoch 73/100\n",
            "8000/8000 [==============================] - 1s 87us/step - loss: 0.7282 - accuracy: 0.8265\n",
            "Epoch 74/100\n",
            "8000/8000 [==============================] - 1s 86us/step - loss: 0.6833 - accuracy: 0.8265\n",
            "Epoch 75/100\n",
            "8000/8000 [==============================] - 1s 88us/step - loss: 0.6198 - accuracy: 0.8309\n",
            "Epoch 76/100\n",
            "8000/8000 [==============================] - 1s 95us/step - loss: 0.6614 - accuracy: 0.8295\n",
            "Epoch 77/100\n",
            "8000/8000 [==============================] - 1s 92us/step - loss: 0.7190 - accuracy: 0.8266\n",
            "Epoch 78/100\n",
            "8000/8000 [==============================] - 1s 89us/step - loss: 0.6601 - accuracy: 0.8255\n",
            "Epoch 79/100\n",
            "8000/8000 [==============================] - 1s 88us/step - loss: 0.6873 - accuracy: 0.8274\n",
            "Epoch 80/100\n",
            "8000/8000 [==============================] - 1s 88us/step - loss: 0.7289 - accuracy: 0.8282\n",
            "Epoch 81/100\n",
            "8000/8000 [==============================] - 1s 87us/step - loss: 0.6947 - accuracy: 0.8288\n",
            "Epoch 82/100\n",
            "8000/8000 [==============================] - 1s 89us/step - loss: 0.6424 - accuracy: 0.8310\n",
            "Epoch 83/100\n",
            "8000/8000 [==============================] - 1s 87us/step - loss: 0.6820 - accuracy: 0.8273\n",
            "Epoch 84/100\n",
            "8000/8000 [==============================] - 1s 88us/step - loss: 0.6820 - accuracy: 0.8276\n",
            "Epoch 85/100\n",
            "8000/8000 [==============================] - 1s 87us/step - loss: 0.6824 - accuracy: 0.8281\n",
            "Epoch 86/100\n",
            "8000/8000 [==============================] - 1s 91us/step - loss: 0.6791 - accuracy: 0.8285\n",
            "Epoch 87/100\n",
            "8000/8000 [==============================] - 1s 89us/step - loss: 0.7224 - accuracy: 0.8273\n",
            "Epoch 88/100\n",
            "8000/8000 [==============================] - 1s 89us/step - loss: 0.7212 - accuracy: 0.8271\n",
            "Epoch 89/100\n",
            "8000/8000 [==============================] - 1s 89us/step - loss: 0.6565 - accuracy: 0.8273\n",
            "Epoch 90/100\n",
            "8000/8000 [==============================] - 1s 89us/step - loss: 0.6850 - accuracy: 0.8276\n",
            "Epoch 91/100\n",
            "8000/8000 [==============================] - 1s 90us/step - loss: 0.6793 - accuracy: 0.8273\n",
            "Epoch 92/100\n",
            "8000/8000 [==============================] - 1s 89us/step - loss: 0.6818 - accuracy: 0.8289\n",
            "Epoch 93/100\n",
            "8000/8000 [==============================] - 1s 86us/step - loss: 0.6723 - accuracy: 0.8300\n",
            "Epoch 94/100\n",
            "8000/8000 [==============================] - 1s 88us/step - loss: 0.7098 - accuracy: 0.8282\n",
            "Epoch 95/100\n",
            "8000/8000 [==============================] - 1s 92us/step - loss: 0.7218 - accuracy: 0.8264\n",
            "Epoch 96/100\n",
            "8000/8000 [==============================] - 1s 88us/step - loss: 0.6979 - accuracy: 0.8304\n",
            "Epoch 97/100\n",
            "8000/8000 [==============================] - 1s 89us/step - loss: 0.6740 - accuracy: 0.8286\n",
            "Epoch 98/100\n",
            "8000/8000 [==============================] - 1s 90us/step - loss: 0.6918 - accuracy: 0.8298\n",
            "Epoch 99/100\n",
            "8000/8000 [==============================] - 1s 88us/step - loss: 0.6782 - accuracy: 0.8265\n",
            "Epoch 100/100\n",
            "8000/8000 [==============================] - 1s 91us/step - loss: 0.6830 - accuracy: 0.8271\n"
          ],
          "name": "stdout"
        },
        {
          "output_type": "execute_result",
          "data": {
            "text/plain": [
              "<keras.callbacks.callbacks.History at 0x7f4ebcc1e278>"
            ]
          },
          "metadata": {
            "tags": []
          },
          "execution_count": 93
        }
      ]
    },
    {
      "cell_type": "markdown",
      "metadata": {
        "id": "OkpstL4cEnWY",
        "colab_type": "text"
      },
      "source": [
        "##Final Tuning using Dropout and GridSearchCV"
      ]
    },
    {
      "cell_type": "code",
      "metadata": {
        "id": "ERWl2uvAFQg2",
        "colab_type": "code",
        "colab": {}
      },
      "source": [
        "#importing GridSearch\n",
        "from sklearn.model_selection import GridSearchCV"
      ],
      "execution_count": 0,
      "outputs": []
    },
    {
      "cell_type": "code",
      "metadata": {
        "id": "qxDYfgdyFcAD",
        "colab_type": "code",
        "colab": {}
      },
      "source": [
        "#writing the build function again\n",
        "def build_classifier(optimizer):\n",
        "  print(\"Start\")\n",
        "  classifier = Sequential()\n",
        "  classifier.add(Dense(units = 6, activation='relu', init='uniform', input_dim=11))\n",
        "  classifier.add(Dropout(p=0.1))\n",
        "  classifier.add(Dense(units=6, activation='relu',init='uniform'))\n",
        "  classifier.add(Dropout(p=0.1))\n",
        "  classifier.add(Dense(units=1, activation='sigmoid', init='uniform'))\n",
        "  classifier.add(Dropout(p=0.1))\n",
        "  classifier.compile(optimizer = optimizer, loss = 'binary_crossentropy', metrics = ['accuracy'])\n",
        "  print(\"End\")\n",
        "  return classifier"
      ],
      "execution_count": 0,
      "outputs": []
    },
    {
      "cell_type": "code",
      "metadata": {
        "id": "ZsWFRno6GBmt",
        "colab_type": "code",
        "colab": {}
      },
      "source": [
        "#selecting the parameters and their different values\n",
        "parameters = {\n",
        "    'batch_size' : [8, 16, 32],\n",
        "    'epochs' : [100, 500],\n",
        "    'optimizer' : ['adam', 'rmsprop']\n",
        "}"
      ],
      "execution_count": 0,
      "outputs": []
    },
    {
      "cell_type": "code",
      "metadata": {
        "id": "KBuv4En4H8pe",
        "colab_type": "code",
        "colab": {}
      },
      "source": [
        "classifier = KerasClassifier(build_fn=build_classifier)\n",
        "grid_search=GridSearchCV(estimator=classifier, param_grid=parameters,scoring='accuracy', cv=10, n_jobs=-1)"
      ],
      "execution_count": 0,
      "outputs": []
    },
    {
      "cell_type": "code",
      "metadata": {
        "id": "VnkEqfO1I5Ry",
        "colab_type": "code",
        "colab": {}
      },
      "source": [
        "grid_search = grid_search.fit(x_train, y_train)"
      ],
      "execution_count": 0,
      "outputs": []
    },
    {
      "cell_type": "code",
      "metadata": {
        "id": "xaQY0oWeJRzj",
        "colab_type": "code",
        "colab": {}
      },
      "source": [
        ""
      ],
      "execution_count": 0,
      "outputs": []
    }
  ]
}